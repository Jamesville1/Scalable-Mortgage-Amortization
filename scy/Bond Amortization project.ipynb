{
 "cells": [
  {
   "cell_type": "markdown",
   "metadata": {},
   "source": [
    "My goal here was to create a scalable bond amortization within Python. After creating this in excel, it became clear that one of the limitations of doing this in excel was the lack of a way to use a loop, making it nearly impossible (or at the very least impractical) to do this in excel.\n",
    "\n",
    "At present, the output format is such so that it can be plugged into my MBS cashflow waterfall model in excel easily.s\n",
    "\n"
   ]
  },
  {
   "cell_type": "code",
   "execution_count": null,
   "metadata": {},
   "outputs": [],
   "source": [
    "import pandas as pd\n",
    "import numpy as np\n",
    "#!pip install mortgage.  I can pip install right in the jupyter notebook\n",
    "#import mortgage\n",
    "import numpy_financial as npf\n",
    "import sys\n",
    "import os\n",
    "\n",
    "file_path =\"C:/Users/syrac/OneDrive/Desktop/Raymond James Case Study/Analyst Challenge - unedited file.xlsx\"\n",
    "\n",
    "\n",
    "\n",
    "\n"
   ]
  },
  {
   "cell_type": "code",
   "execution_count": null,
   "metadata": {},
   "outputs": [],
   "source": [
    "#The sys.path adds the following file path to the list of directories that import will look through\n",
    "sys.path.append(\"C:/Users/syrac/OneDrive/Desktop/Raymond James Case Study\")\n",
    "import Amortizationtables"
   ]
  },
  {
   "cell_type": "code",
   "execution_count": null,
   "metadata": {},
   "outputs": [],
   "source": [
    "df = pd.read_excel(file_path)\n",
    "\n",
    "# Dictionary to store lists for each Mortgage\n",
    "bond_data = {}\n",
    "#List to store all amortization dataframes\n",
    "amortization_tables = []\n",
    "export_file = \"C:/Users/syrac/OneDrive/Desktop/Raymond James Case Study/ Python Amortization output combined.xlsx\"\n",
    "\n",
    "# Iterate over the rows in the DataFrame. The iterrows method works on pairs of index and panda object \"row\"\n",
    "for index, row in df.iterrows():\n",
    "    # Get the ID (mortgage name) \n",
    "    bond_id = row['ID']\n",
    "    \n",
    "    # The .tolist method converts the the Pandas series into a regular python list from a pandas row. The drop method removes the ID column\n",
    "    bond_values = row.drop('ID').tolist()\n",
    "    \n",
    "    # Creates a list for each ID \n",
    "\n",
    "    bond_data[bond_id] = bond_values #bond ID is the \"key\", bond values is the \"Value pair\", which is a list containing the bond info\n",
    "\n",
    "    bond_values.append(12)\n",
    "    \n",
    "    cutoff_Date_Balance, Gross_Coupon, Remaining_Amortization, payments_per_year = bond_values\n",
    "    Remaining_Amortization = Remaining_Amortization/12\n",
    "    Gross_Coupon = Gross_Coupon/100\n",
    "    amortization_df = Amortizationtables.create_amortization_table(cutoff_Date_Balance, Gross_Coupon, Remaining_Amortization, payments_per_year)\n",
    "    amortization_df['Bond_ID'] = bond_id\n",
    "    amortization_df['Period'] = range(1, len(amortization_df) + 1)\n",
    "    amortization_tables.append(amortization_df)\n",
    "combined_df = pd.concat(amortization_tables, ignore_index=True)   \n",
    "\n",
    "total_payments = combined_df.groupby('Period')['Payment'].sum().reset_index() #The reset index is what creates the new dataframe here\n",
    "total_payments.rename(columns={'Payment':'Total Payment', 'Period':'Unique Period'}, inplace = True)    #The merge is what is messing me up\n",
    "total_payments_extended = total_payments.reindex(combined_df.index) #In dataframes, all columns must be the same length. \n",
    "\n",
    "combined_df['Total Payment'] = total_payments_extended['Total Payment'].values\n",
    "combined_df['Unique Period'] = total_payments_extended['Unique Period'].values\n",
    " \n",
    "with pd.ExcelWriter(export_file, engine='openpyxl') as writer:\n",
    "    combined_df.to_excel(writer, index=False, sheet_name='Combined Amortization Tables')   \n",
    "   \n",
    "   \n",
    "    \n",
    "   \n",
    "        \n",
    "   \n",
    "\n",
    "    "
   ]
  },
  {
   "cell_type": "code",
   "execution_count": null,
   "metadata": {},
   "outputs": [],
   "source": []
  },
  {
   "cell_type": "code",
   "execution_count": null,
   "metadata": {},
   "outputs": [],
   "source": []
  },
  {
   "cell_type": "code",
   "execution_count": null,
   "metadata": {},
   "outputs": [],
   "source": []
  },
  {
   "cell_type": "code",
   "execution_count": null,
   "metadata": {},
   "outputs": [],
   "source": []
  },
  {
   "cell_type": "code",
   "execution_count": null,
   "metadata": {},
   "outputs": [],
   "source": []
  },
  {
   "cell_type": "code",
   "execution_count": null,
   "metadata": {},
   "outputs": [],
   "source": []
  }
 ],
 "metadata": {
  "kernelspec": {
   "display_name": "Python 3",
   "language": "python",
   "name": "python3"
  },
  "language_info": {
   "codemirror_mode": {
    "name": "ipython",
    "version": 3
   },
   "file_extension": ".py",
   "mimetype": "text/x-python",
   "name": "python",
   "nbconvert_exporter": "python",
   "pygments_lexer": "ipython3",
   "version": "3.11.3"
  }
 },
 "nbformat": 4,
 "nbformat_minor": 2
}
